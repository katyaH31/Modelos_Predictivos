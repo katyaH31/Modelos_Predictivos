{
 "cells": [
  {
   "cell_type": "markdown",
   "id": "e2822d84",
   "metadata": {},
   "source": [
    "<h1 align=\"center\">Predicción de Precios de Vivienda en California con Regresión Lineal y Logística</h1>\n",
    "\n",
    "Este notebook presenta dos modelos predictivos: una **regresión lineal multivariada** y una **regresión logística multiclase** aplicados al dataset de viviendas de California. Ambos modelos fueron entrenados utilizando **descenso de gradiente**. Se abordan etapas de análisis exploratorio, preprocesamiento y evaluación de los modelos."
   ]
  },
  {
   "cell_type": "markdown",
   "id": "2571e17b",
   "metadata": {},
   "source": [
    "## 1. Carga del Dataset\n",
    "\n",
    "Cargamos el dataset `housing.csv`, que contiene información sobre viviendas de California. El objetivo es predecir el valor promedio de una casa por distrito.\n",
    "El dataset contiene variables numéricas como ingresos medios, número de habitaciones, entre otros."
   ]
  },
  {
   "cell_type": "code",
   "execution_count": null,
   "id": "7b21d5ec",
   "metadata": {},
   "outputs": [],
   "source": [
    "# Importar librerías necesarias\n",
    "import pandas as pd\n",
    "import numpy as np"
   ]
  },
  {
   "cell_type": "code",
   "execution_count": null,
   "id": "e4eff5d2",
   "metadata": {},
   "outputs": [],
   "source": [
    "# Cargar los datos\n",
    "file_path = 'housing.csv'\n",
    "df = pd.read_csv(file_path)\n",
    "df.head()"
   ]
  },
  {
   "cell_type": "markdown",
   "id": "da5df483",
   "metadata": {},
   "source": [
    "## 2. Exploración y Limpieza Inicial\n",
    "\n",
    "En esta sección se inspeccionan los datos en busca de valores faltantes, duplicados y se observa la distribución general."
   ]
  },
  {
   "cell_type": "code",
   "execution_count": null,
   "id": "44020527",
   "metadata": {},
   "outputs": [],
   "source": [
    "df.info()"
   ]
  },
  {
   "cell_type": "code",
   "execution_count": null,
   "id": "48dba428",
   "metadata": {},
   "outputs": [],
   "source": [
    "df.describe()"
   ]
  },
  {
   "cell_type": "markdown",
   "id": "82e3f70c",
   "metadata": {},
   "source": [
    "## 3. Visualización de Datos\n",
    "\n",
    "Se utilizan gráficos para entender las relaciones entre variables y detectar posibles outliers o patrones relevantes."
   ]
  },
  {
   "cell_type": "code",
   "execution_count": null,
   "id": "7c1a425c",
   "metadata": {},
   "outputs": [],
   "source": [
    "import matplotlib.pyplot as plt\n",
    "import seaborn as sns\n",
    "\n",
    "# Mapa de calor de correlación\n",
    "plt.figure(figsize=(10, 6))\n",
    "sns.heatmap(df.corr(), annot=True, cmap='coolwarm')\n",
    "plt.title('Mapa de Calor de Correlación entre Variables')\n",
    "plt.show()"
   ]
  },
  {
   "cell_type": "markdown",
   "id": "01109f67",
   "metadata": {},
   "source": [
    "## 4. Implementación de Modelos\n",
    "\n",
    "Se implementan dos modelos utilizando **descenso de gradiente**:\n",
    "\n",
    "- Regresión Lineal Multivariada\n",
    "- Regresión Logística Multiclase (One-vs-Rest)"
   ]
  },
  {
   "cell_type": "code",
   "execution_count": null,
   "id": "8a12e7a7",
   "metadata": {},
   "outputs": [],
   "source": [
    "# Información general del DataFrame\n",
    "df.info()"
   ]
  },
  {
   "cell_type": "code",
   "execution_count": null,
   "id": "fc4ae9c8",
   "metadata": {},
   "outputs": [],
   "source": [
    "# Estadísticas descriptivas del dataset\n",
    "df.describe()"
   ]
  },
  {
   "cell_type": "markdown",
   "id": "ce12cea7",
   "metadata": {},
   "source": [
    "## 5. Evaluación de Resultados\n",
    "\n",
    "Se presentan métricas de rendimiento como el error cuadrático medio y la exactitud, justificando el desempeño de los modelos."
   ]
  },
  {
   "cell_type": "markdown",
   "id": "eb21fc43",
   "metadata": {},
   "source": [
    "## 6. Conclusiones\n",
    "\n",
    "Se resume el proceso seguido, se reflexiona sobre los resultados obtenidos y se identifican posibles mejoras futuras."
   ]
  },
  {
   "cell_type": "markdown",
   "id": "9d0b34dd",
   "metadata": {},
   "source": [
    "# Análisis de Precios de Viviendas en California 🏡\n",
    "\n",
    "Este análisis explora el dataset de precios de viviendas en California. Se incluyen etapas de exploración, visualización y conclusiones clave para comprender mejor los factores que influyen en los precios de las viviendas.\n"
   ]
  },
  {
   "cell_type": "markdown",
   "id": "7d25b977",
   "metadata": {},
   "source": [
    "\n",
    "---\n",
    "\n",
    "## 📌 Conclusión General\n",
    "\n",
    "El análisis del dataset de precios de viviendas en California revela patrones importantes como:\n",
    "\n",
    "- Las zonas cercanas al océano tienen precios más altos.\n",
    "- El número de habitaciones y la densidad poblacional influyen significativamente en el valor de las viviendas.\n",
    "- Las visualizaciones permiten detectar correlaciones y relaciones no lineales útiles para modelos predictivos futuros.\n",
    "\n",
    "Este estudio puede ampliarse utilizando modelos de machine learning para predecir precios futuros.\n"
   ]
  },
  {
   "cell_type": "markdown",
   "id": "f5afa348",
   "metadata": {},
   "source": [
    "### 📦 Importación de librerías"
   ]
  },
  {
   "cell_type": "code",
   "execution_count": null,
   "id": "0b20298a",
   "metadata": {},
   "outputs": [],
   "source": [
    "import pandas as pd\n",
    "import numpy as np\n",
    "import matplotlib.pyplot as plt\n",
    "import seaborn as sns\n",
    "\n",
    "from sklearn.model_selection import train_test_split\n",
    "from sklearn.linear_model import LinearRegression\n",
    "from sklearn.metrics import mean_squared_error, mean_absolute_error, r2_score"
   ]
  },
  {
   "cell_type": "markdown",
   "id": "28b3ea4f",
   "metadata": {},
   "source": [
    "### 📄 Carga y limpieza de datos"
   ]
  },
  {
   "cell_type": "code",
   "execution_count": null,
   "id": "80558796",
   "metadata": {},
   "outputs": [],
   "source": [
    "df = pd.read_csv(\"housing.csv\")\n",
    "\n",
    "df = df.dropna()\n",
    "df = df.drop_duplicates()"
   ]
  },
  {
   "cell_type": "markdown",
   "id": "36863414",
   "metadata": {},
   "source": [
    "### 🔤 Codificación de variables categóricas"
   ]
  },
  {
   "cell_type": "code",
   "execution_count": null,
   "id": "51487b51",
   "metadata": {},
   "outputs": [],
   "source": [
    "df = pd.get_dummies(df, columns=[\"ocean_proximity\"], drop_first=True)"
   ]
  },
  {
   "cell_type": "markdown",
   "id": "5af91a05",
   "metadata": {},
   "source": [
    "### 📊 Visualización de Datos"
   ]
  },
  {
   "cell_type": "code",
   "execution_count": null,
   "id": "751eb17d",
   "metadata": {},
   "outputs": [],
   "source": [
    "plt.figure(figsize=(8, 5))\n",
    "sns.histplot(df[\"median_house_value\"], kde=True)\n",
    "plt.title(\"Distribución de valores de vivienda\")\n",
    "plt.xlabel(\"Valor medio de vivienda\")\n",
    "plt.ylabel(\"Frecuencia\")\n",
    "plt.grid(True)\n",
    "plt.show()"
   ]
  },
  {
   "cell_type": "code",
   "execution_count": null,
   "id": "1e56cec2",
   "metadata": {},
   "outputs": [],
   "source": [
    "plt.figure(figsize=(12, 8))\n",
    "sns.heatmap(df.corr(), annot=True, cmap=\"coolwarm\", fmt=\".2f\")\n",
    "plt.title(\"Matriz de correlación entre variables\")\n",
    "plt.show()"
   ]
  },
  {
   "cell_type": "code",
   "execution_count": null,
   "id": "60f19d81",
   "metadata": {},
   "outputs": [],
   "source": [
    "plt.figure(figsize=(8, 5))\n",
    "sns.scatterplot(x=df[\"median_income\"], y=df[\"median_house_value\"])\n",
    "plt.title(\"Ingreso medio vs. Valor medio de vivienda\")\n",
    "plt.xlabel(\"Ingreso medio\")\n",
    "plt.ylabel(\"Valor medio de vivienda\")\n",
    "plt.grid(True)\n",
    "plt.show()"
   ]
  },
  {
   "cell_type": "markdown",
   "id": "0b3647f2",
   "metadata": {},
   "source": [
    "### 📦 Detección de Outliers (Boxplots)"
   ]
  },
  {
   "cell_type": "code",
   "execution_count": null,
   "id": "1406a4e3",
   "metadata": {},
   "outputs": [],
   "source": [
    "variables_numericas = ['housing_median_age', 'total_rooms', 'total_bedrooms',\n",
    "                       'population', 'households', 'median_income']\n",
    "for var in variables_numericas:\n",
    "    plt.figure(figsize=(7, 4))\n",
    "    sns.boxplot(x=df[var])\n",
    "    plt.title(f\"Boxplot de {var}\")\n",
    "    plt.grid(True)\n",
    "    plt.show()"
   ]
  },
  {
   "cell_type": "markdown",
   "id": "4b036a5d",
   "metadata": {},
   "source": [
    "## 5. Entrenamiento y Evaluación del Modelo"
   ]
  },
  {
   "cell_type": "code",
   "execution_count": null,
   "id": "293f4cff",
   "metadata": {},
   "outputs": [],
   "source": [
    "X = df.drop(\"median_house_value\", axis=1)\n",
    "y = df[\"median_house_value\"]\n",
    "\n",
    "X_train, X_test, y_train, y_test = train_test_split(X, y, test_size=0.2, random_state=42)\n",
    "\n",
    "modelo = LinearRegression()\n",
    "modelo.fit(X_train, y_train)\n",
    "y_pred = modelo.predict(X_test)"
   ]
  },
  {
   "cell_type": "markdown",
   "id": "8961bf5d",
   "metadata": {},
   "source": [
    "### 📈 Métricas de Desempeño"
   ]
  },
  {
   "cell_type": "code",
   "execution_count": null,
   "id": "930b4c99",
   "metadata": {},
   "outputs": [],
   "source": [
    "print(\"MSE:\", mean_squared_error(y_test, y_pred))\n",
    "print(\"MAE:\", mean_absolute_error(y_test, y_pred))\n",
    "print(\"R² Score:\", r2_score(y_test, y_pred))"
   ]
  },
  {
   "cell_type": "markdown",
   "id": "8433819a",
   "metadata": {},
   "source": [
    "### 📉 Comparación de valores reales vs. predichos"
   ]
  },
  {
   "cell_type": "code",
   "execution_count": null,
   "id": "bb4c2566",
   "metadata": {},
   "outputs": [],
   "source": [
    "plt.figure(figsize=(8, 5))\n",
    "plt.scatter(y_test, y_pred, alpha=0.5)\n",
    "plt.plot([y_test.min(), y_test.max()], [y_test.min(), y_test.max()], color='red')\n",
    "plt.title(\"Valores Reales vs. Predichos\")\n",
    "plt.xlabel(\"Valor Real\")\n",
    "plt.ylabel(\"Valor Predicho\")\n",
    "plt.grid(True)\n",
    "plt.show()"
   ]
  }
 ],
 "metadata": {
  "kernelspec": {
   "display_name": "Python 3",
   "language": "python",
   "name": "python3"
  },
  "language_info": {
   "codemirror_mode": {
    "name": "ipython",
    "version": 3
   },
   "file_extension": ".py",
   "mimetype": "text/x-python",
   "name": "python",
   "nbconvert_exporter": "python",
   "pygments_lexer": "ipython3",
   "version": "3.12.6"
  }
 },
 "nbformat": 4,
 "nbformat_minor": 5
}
